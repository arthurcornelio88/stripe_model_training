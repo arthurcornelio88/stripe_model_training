{
 "cells": [
  {
   "cell_type": "code",
   "execution_count": 3,
   "id": "e5755c1c",
   "metadata": {},
   "outputs": [
    {
     "name": "stdout",
     "output_type": "stream",
     "text": [
      "\n",
      "🧪 Types de X_train :\n",
      "city    object\n",
      "dtype: object\n",
      "\n",
      "🧪 Types de X_test :\n",
      "city    object\n",
      "dtype: object\n",
      "\n",
      "✅ Colonnes non numériques dans X_train :\n",
      "['city']\n",
      "\n",
      "✅ Valeurs uniques suspectes :\n",
      "city → ['Luzerne' 'North Wilkesboro' 'Lamy' 'Sontag' 'Big Indian']\n"
     ]
    }
   ],
   "source": [
    "import pandas as pd\n",
    "\n",
    "# Charger les données\n",
    "X_train = pd.read_csv(\"../data/processed/X_train_20250611_233203.csv\")  # adapte le timestamp\n",
    "X_test = pd.read_csv(\"../data/processed/X_test_20250611_233203.csv\")\n",
    "\n",
    "# Vérifie les types de colonnes\n",
    "print(\"\\n🧪 Types de X_train :\")\n",
    "print(X_train.dtypes[X_train.dtypes == \"object\"])\n",
    "\n",
    "print(\"\\n🧪 Types de X_test :\")\n",
    "print(X_test.dtypes[X_test.dtypes == \"object\"])\n",
    "\n",
    "# Vérifie si les colonnes sont bien numériques\n",
    "print(\"\\n✅ Colonnes non numériques dans X_train :\")\n",
    "print(X_train.select_dtypes(include=\"object\").columns.tolist())\n",
    "\n",
    "print(\"\\n✅ Valeurs uniques suspectes :\")\n",
    "for col in X_train.columns:\n",
    "    if X_train[col].dtype == \"object\":\n",
    "        print(f\"{col} → {X_train[col].unique()[:5]}\")\n"
   ]
  },
  {
   "cell_type": "code",
   "execution_count": 6,
   "id": "08564f9b",
   "metadata": {},
   "outputs": [
    {
     "data": {
      "text/plain": [
       "849"
      ]
     },
     "execution_count": 6,
     "metadata": {},
     "output_type": "execute_result"
    }
   ],
   "source": [
    "X_train[\"city\"].nunique()  # Exemple pour vérifier le nombre de valeurs uniques dans une colonne spécifique"
   ]
  }
 ],
 "metadata": {
  "kernelspec": {
   "display_name": ".venv",
   "language": "python",
   "name": "python3"
  },
  "language_info": {
   "codemirror_mode": {
    "name": "ipython",
    "version": 3
   },
   "file_extension": ".py",
   "mimetype": "text/x-python",
   "name": "python",
   "nbconvert_exporter": "python",
   "pygments_lexer": "ipython3",
   "version": "3.13.2"
  }
 },
 "nbformat": 4,
 "nbformat_minor": 5
}
